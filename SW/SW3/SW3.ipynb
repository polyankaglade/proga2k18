{
 "metadata": {
  "name": "",
  "signature": "sha256:759142b83447a80a0e254e75e6d351bde7c96dec08baf8d99d2050148e9faf61"
 },
 "nbformat": 3,
 "nbformat_minor": 0,
 "worksheets": [
  {
   "cells": [
    {
     "cell_type": "code",
     "collapsed": false,
     "input": [
      "import json\n",
      "import urllib.request\n",
      "\n",
      "user = \"elmiram\"  # \u043f\u043e\u043b\u044c\u0437\u043e\u0432\u0430\u0442\u0435\u043b\u044c, \u043f\u0440\u043e \u043a\u043e\u0442\u043e\u0440\u043e\u0433\u043e \u043c\u044b \u0445\u043e\u0442\u0438\u043c \u0447\u0442\u043e-\u0442\u043e \u0443\u0437\u043d\u0430\u0442\u044c\n",
      "url = 'https://api.github.com/users/%s/repos' % user  \n",
      "# \u043f\u043e \u044d\u0442\u043e\u0439 \u0441\u0441\u044b\u043b\u043a\u0435 \u043c\u044b \u0431\u0443\u0434\u0435\u043c \u0434\u043e\u0441\u0442\u0430\u0432\u0430\u0442\u044c \u0434\u0436\u0435\u0439\u0441\u043e\u043d, \u043f\u043e\u043f\u0440\u043e\u0431\u0443\u0439\u0442\u0435 \u0432\u0441\u0442\u0430\u0432\u0438\u0442\u044c \u0441\u0441\u044b\u043b\u043a\u0443 \u0432 \u0431\u0440\u0430\u0443\u0437\u0435\u0440 \u0438 \u043f\u043e\u0441\u043c\u043e\u0442\u0440\u0435\u0442\u044c, \u0447\u0442\u043e \u0442\u0430\u043c\n",
      "\n",
      "response = urllib.request.urlopen(url)  # \u043f\u043e\u0441\u044b\u043b\u0430\u0435\u043c \u0441\u0435\u0440\u0432\u0435\u0440\u0443 \u0437\u0430\u043f\u0440\u043e\u0441 \u0438 \u0434\u043e\u0441\u0442\u0430\u0435\u043c \u043e\u0442\u0432\u0435\u0442\n",
      "text = response.read().decode('utf-8')  # \u0447\u0438\u0442\u0430\u0435\u043c \u043e\u0442\u0432\u0435\u0442 \u0432 \u0441\u0442\u0440\u043e\u043a\u0443\n",
      "data = json.loads(text) # \u043f\u0440\u0435\u0432\u0440\u0430\u0449\u0430\u0435\u043c \u0434\u0436\u0435\u0439\u0441\u043e\u043d-\u0441\u0442\u0440\u043e\u043a\u0443 \u0432 \u043e\u0431\u044a\u0435\u043a\u0442\u044b \u043f\u0438\u0442\u043e\u043d\u0430\n",
      "\n",
      "print(len(data))  # \u043c\u043e\u0436\u043d\u043e \u0440\u0430\u0441\u043f\u0435\u0447\u0430\u0442\u0430\u0442\u044c, \u0441\u043a\u043e\u043b\u044c\u043a\u043e \u0443 \u043f\u043e\u043b\u044c\u0437\u043e\u0432\u0430\u0442\u0435\u043b\u044f \u0440\u0435\u043f\u043e\u0437\u0438\u0442\u043e\u0440\u0438\u0435\u0432\n",
      "for i in data:\n",
      "    print(i[\"name\"]) # \u0438 \u0440\u0430\u0441\u043f\u0435\u0447\u0430\u0442\u0430\u0442\u044c \u043d\u0430\u0437\u0432\u0430\u043d\u0438\u044f \u0432\u0441\u0435\u0445 \u0440\u0435\u043f\u043e\u0437\u0438\u0442\u043e\u0440\u0438\u0435\u0432"
     ],
     "language": "python",
     "metadata": {},
     "outputs": [
      {
       "output_type": "stream",
       "stream": "stdout",
       "text": [
        "30\n",
        "19thcentury\n",
        "2016learnpython\n",
        "2017learnpython\n",
        "animal_sounds_graph_project\n",
        "ASD_children_corpus\n",
        "children_texts_corpus\n",
        "computer-science-flash-cards\n",
        "constructicon\n",
        "elmiram.github.io\n",
        "EmotionAnalysisInVideo\n",
        "google-interview-university\n",
        "HarryPotterBot\n",
        "hh-1-1-git-commands\n",
        "hh-1-1-repoA\n",
        "hh-1-1-repoB\n",
        "hh-1-2-frontik-no-testing\n",
        "hh-1-2-frontik-testing\n",
        "hh-1-2-git-commands\n",
        "hh-unix-assignment\n",
        "homework\n",
        "hselingprojects\n",
        "learner_corpus\n",
        "logo_compiler\n",
        "pythonvjs\n",
        "riichicount\n",
        "RusDisamb\n",
        "russian_learner_corpus\n",
        "RusTokenizer\n",
        "seq2seq_chatbot\n",
        "txt2prs\n"
       ]
      }
     ],
     "prompt_number": 1
    },
    {
     "cell_type": "code",
     "collapsed": false,
     "input": [
      "import json\n",
      "import urllib.request\n",
      "from collections import Counter\n",
      "\n",
      "user = \"maryszmary\"  # \u043f\u043e\u043b\u044c\u0437\u043e\u0432\u0430\u0442\u0435\u043b\u044c, \u043f\u0440\u043e \u043a\u043e\u0442\u043e\u0440\u043e\u0433\u043e \u043c\u044b \u0445\u043e\u0442\u0438\u043c \u0447\u0442\u043e-\u0442\u043e \u0443\u0437\u043d\u0430\u0442\u044c\n",
      "url = 'https://api.github.com/users/%s/repos' % user  \n",
      "# \u043f\u043e \u044d\u0442\u043e\u0439 \u0441\u0441\u044b\u043b\u043a\u0435 \u043c\u044b \u0431\u0443\u0434\u0435\u043c \u0434\u043e\u0441\u0442\u0430\u0432\u0430\u0442\u044c \u0434\u0436\u0435\u0439\u0441\u043e\u043d, \u043f\u043e\u043f\u0440\u043e\u0431\u0443\u0439\u0442\u0435 \u0432\u0441\u0442\u0430\u0432\u0438\u0442\u044c \u0441\u0441\u044b\u043b\u043a\u0443 \u0432 \u0431\u0440\u0430\u0443\u0437\u0435\u0440 \u0438 \u043f\u043e\u0441\u043c\u043e\u0442\u0440\u0435\u0442\u044c, \u0447\u0442\u043e \u0442\u0430\u043c\n",
      "\n",
      "response = urllib.request.urlopen(url)  # \u043f\u043e\u0441\u044b\u043b\u0430\u0435\u043c \u0441\u0435\u0440\u0432\u0435\u0440\u0443 \u0437\u0430\u043f\u0440\u043e\u0441 \u0438 \u0434\u043e\u0441\u0442\u0430\u0435\u043c \u043e\u0442\u0432\u0435\u0442"
     ],
     "language": "python",
     "metadata": {},
     "outputs": [],
     "prompt_number": 20
    },
    {
     "cell_type": "code",
     "collapsed": false,
     "input": [
      "text = response.read().decode('utf-8')  # \u0447\u0438\u0442\u0430\u0435\u043c \u043e\u0442\u0432\u0435\u0442 \u0432 \u0441\u0442\u0440\u043e\u043a\u0443\n",
      "data = json.loads(text) # \u043f\u0440\u0435\u0432\u0440\u0430\u0449\u0430\u0435\u043c \u0434\u0436\u0435\u0439\u0441\u043e\u043d-\u0441\u0442\u0440\u043e\u043a\u0443 \u0432 \u043e\u0431\u044a\u0435\u043a\u0442\u044b \u043f\u0438\u0442\u043e\u043d\u0430\n",
      "\n",
      "languages = []\n",
      "\n",
      "for i in data:\n",
      "    print('\u0418\u043c\u044f:',i['name'],' \u041e\u043f\u0438\u0441\u0430\u043d\u0438\u0435: ',i['description'])\n",
      "    languages.append(i['language'])\n",
      "\n",
      "print('\u0418\u0441\u043f\u043e\u043b\u044c\u0437\u0443\u0435\u043c\u044b\u0435 \u044f\u0437\u044b\u043a\u0438:')\n",
      "c = Counter(languages)\n",
      "for key,value in c.items():\n",
      "    print('\u042f\u0437\u044b\u043a '+str(key)+', \u0438\u0441\u043f\u043e\u043b\u044c\u0437\u0443\u0435\u0442\u0441\u044f \u0432 '+str(value)+' \u0440\u0435\u043f\u043e\u0437\u0438\u0442\u043e\u0440\u0438\u044f\u0445.')"
     ],
     "language": "python",
     "metadata": {},
     "outputs": [
      {
       "output_type": "stream",
       "stream": "stdout",
       "text": [
        "\u0418\u043c\u044f: adj_and_ngramms  \u041e\u043f\u0438\u0441\u0430\u043d\u0438\u0435:  None\n",
        "\u0418\u043c\u044f: Algorithm-Testament  \u041e\u043f\u0438\u0441\u0430\u043d\u0438\u0435:  Reproducing http://kingjamesprogramming.tumblr.com and having fun.\n",
        "\u0418\u043c\u044f: bot  \u041e\u043f\u0438\u0441\u0430\u043d\u0438\u0435:  \u0411\u043e\u0442 \u0434\u043b\u044f \u0441\u0435\u043c\u0438\u043d\u0430\u0440\u0430 \u043f\u043e \u041d\u0418\u0421\n",
        "\u0418\u043c\u044f: cognitive_biases  \u041e\u043f\u0438\u0441\u0430\u043d\u0438\u0435:  None\n",
        "\u0418\u043c\u044f: ComplingLecture  \u041e\u043f\u0438\u0441\u0430\u043d\u0438\u0435:  Our lecture about computer linguistics for the 1st year students. \n",
        "\u0418\u043c\u044f: compling_hw  \u041e\u043f\u0438\u0441\u0430\u043d\u0438\u0435:  My homework for the course of Computational Linguistics.\n",
        "\u0418\u043c\u044f: compling_ml  \u041e\u043f\u0438\u0441\u0430\u043d\u0438\u0435:  Masha Sheyanova and Sasha Martynova's repository for ML hw. \n",
        "\u0418\u043c\u044f: conllu-perceptron-tagger  \u041e\u043f\u0438\u0441\u0430\u043d\u0438\u0435:  A simple perceptron tagger for CoNLL-U files\n",
        "\u0418\u043c\u044f: digital_humanities  \u041e\u043f\u0438\u0441\u0430\u043d\u0438\u0435:  None\n",
        "\u0418\u043c\u044f: fst_chv  \u041e\u043f\u0438\u0441\u0430\u043d\u0438\u0435:  None\n",
        "\u0418\u043c\u044f: holiday_applications  \u041e\u043f\u0438\u0441\u0430\u043d\u0438\u0435:  This is my test task for profi.ru\n",
        "\u0418\u043c\u044f: HSEquestion_bot  \u041e\u043f\u0438\u0441\u0430\u043d\u0438\u0435:  A Telegram chatbot based on HSE FAQ.\n",
        "\u0418\u043c\u044f: jonorthwash.github.io  \u041e\u043f\u0438\u0441\u0430\u043d\u0438\u0435:  None\n",
        "\u0418\u043c\u044f: langTrainers  \u041e\u043f\u0438\u0441\u0430\u043d\u0438\u0435:  Web-interface for language trainers.\n",
        "\u0418\u043c\u044f: lazy_annotation  \u041e\u043f\u0438\u0441\u0430\u043d\u0438\u0435:  None\n",
        "\u0418\u043c\u044f: lex_crawler  \u041e\u043f\u0438\u0441\u0430\u043d\u0438\u0435:  None\n",
        "\u0418\u043c\u044f: lxml_tutorial  \u041e\u043f\u0438\u0441\u0430\u043d\u0438\u0435:  None\n",
        "\u0418\u043c\u044f: lychee-spellchecker  \u041e\u043f\u0438\u0441\u0430\u043d\u0438\u0435:  Simple spellchecker project\n",
        "\u0418\u043c\u044f: ml_hw  \u041e\u043f\u0438\u0441\u0430\u043d\u0438\u0435:  homework for ml course\n",
        "\u0418\u043c\u044f: r_application  \u041e\u043f\u0438\u0441\u0430\u043d\u0438\u0435:  None\n",
        "\u0418\u043c\u044f: R_course  \u041e\u043f\u0438\u0441\u0430\u043d\u0438\u0435:  Homework for the data analysis course\n",
        "\u0418\u043c\u044f: sem_disam  \u041e\u043f\u0438\u0441\u0430\u043d\u0438\u0435:  authomatic semantic disambiguation for ruscorpora\n",
        "\u0418\u043c\u044f: txuvaix  \u041e\u043f\u0438\u0441\u0430\u043d\u0438\u0435:  None\n",
        "\u0418\u043c\u044f: ud-annotatrix  \u041e\u043f\u0438\u0441\u0430\u043d\u0438\u0435:  None\n",
        "\u0418\u043c\u044f: xml4webcorpora  \u041e\u043f\u0438\u0441\u0430\u043d\u0438\u0435:  Scripts for converting txt and book xml files to xml format for webcorpora.  \n",
        "\u0418\u0441\u043f\u043e\u043b\u044c\u0437\u0443\u0435\u043c\u044b\u0435 \u044f\u0437\u044b\u043a\u0438:\n",
        "\u042f\u0437\u044b\u043a None, \u0438\u0441\u043f\u043e\u043b\u044c\u0437\u0443\u0435\u0442\u0441\u044f \u0432 2 \u0440\u0435\u043f\u043e\u0437\u0438\u0442\u043e\u0440\u0438\u044f\u0445.\n",
        "\u042f\u0437\u044b\u043a JavaScript, \u0438\u0441\u043f\u043e\u043b\u044c\u0437\u0443\u0435\u0442\u0441\u044f \u0432 2 \u0440\u0435\u043f\u043e\u0437\u0438\u0442\u043e\u0440\u0438\u044f\u0445.\n",
        "\u042f\u0437\u044b\u043a TeX, \u0438\u0441\u043f\u043e\u043b\u044c\u0437\u0443\u0435\u0442\u0441\u044f \u0432 1 \u0440\u0435\u043f\u043e\u0437\u0438\u0442\u043e\u0440\u0438\u044f\u0445.\n",
        "\u042f\u0437\u044b\u043a HTML, \u0438\u0441\u043f\u043e\u043b\u044c\u0437\u0443\u0435\u0442\u0441\u044f \u0432 1 \u0440\u0435\u043f\u043e\u0437\u0438\u0442\u043e\u0440\u0438\u044f\u0445.\n",
        "\u042f\u0437\u044b\u043a Jupyter Notebook, \u0438\u0441\u043f\u043e\u043b\u044c\u0437\u0443\u0435\u0442\u0441\u044f \u0432 7 \u0440\u0435\u043f\u043e\u0437\u0438\u0442\u043e\u0440\u0438\u044f\u0445.\n",
        "\u042f\u0437\u044b\u043a Python, \u0438\u0441\u043f\u043e\u043b\u044c\u0437\u0443\u0435\u0442\u0441\u044f \u0432 11 \u0440\u0435\u043f\u043e\u0437\u0438\u0442\u043e\u0440\u0438\u044f\u0445.\n",
        "\u042f\u0437\u044b\u043a R, \u0438\u0441\u043f\u043e\u043b\u044c\u0437\u0443\u0435\u0442\u0441\u044f \u0432 1 \u0440\u0435\u043f\u043e\u0437\u0438\u0442\u043e\u0440\u0438\u044f\u0445.\n"
       ]
      }
     ],
     "prompt_number": 21
    },
    {
     "cell_type": "code",
     "collapsed": false,
     "input": [
      "all_users = \"elmiram, maryszmary, lizaku, nevmenandr, ancatmara, roctbb, akutuzov, agricolamz, lehkost, kylepjohnson, mikekestemont, demidovakatya, shwars, JelteF, timgraham, arogozhnikov, jasny, bcongdon, whyisjake\"\n",
      "users = all_users.split(', ')\n",
      "users_info = {}\n",
      "for user in users:\n",
      "    url = 'https://api.github.com/users/%s/repos' % user\n",
      "    response = urllib.request.urlopen(url)\n",
      "    text = response.read().decode('utf-8')  # \u0447\u0438\u0442\u0430\u0435\u043c \u043e\u0442\u0432\u0435\u0442 \u0432 \u0441\u0442\u0440\u043e\u043a\u0443\n",
      "    data = json.loads(text) # \u043f\u0440\u0435\u0432\u0440\u0430\u0449\u0430\u0435\u043c \u0434\u0436\u0435\u0439\u0441\u043e\u043d-\u0441\u0442\u0440\u043e\u043a\u0443 \u0432 \u043e\u0431\u044a\u0435\u043a\u0442\u044b \u043f\u0438\u0442\u043e\u043d\u0430\n",
      "    users_info.update([key,value])\n",
      "print(users_info)"
     ],
     "language": "python",
     "metadata": {},
     "outputs": [
      {
       "ename": "URLError",
       "evalue": "<urlopen error [Errno 11004] getaddrinfo failed>",
       "output_type": "pyerr",
       "traceback": [
        "\u001b[1;31m---------------------------------------------------------------------------\u001b[0m\n\u001b[1;31mURLError\u001b[0m                                  Traceback (most recent call last)",
        "\u001b[1;32m<ipython-input-29-b5511d7c588d>\u001b[0m in \u001b[0;36m<module>\u001b[1;34m()\u001b[0m\n\u001b[0;32m      4\u001b[0m \u001b[1;32mfor\u001b[0m \u001b[0muser\u001b[0m \u001b[1;32min\u001b[0m \u001b[0musers\u001b[0m\u001b[1;33m:\u001b[0m\u001b[1;33m\u001b[0m\u001b[0m\n\u001b[0;32m      5\u001b[0m     \u001b[0murl\u001b[0m \u001b[1;33m=\u001b[0m \u001b[1;34m'https://api.github.com/users/%s/repos'\u001b[0m \u001b[1;33m%\u001b[0m \u001b[0muser\u001b[0m\u001b[1;33m\u001b[0m\u001b[0m\n\u001b[1;32m----> 6\u001b[1;33m     \u001b[0mresponse\u001b[0m \u001b[1;33m=\u001b[0m \u001b[0murllib\u001b[0m\u001b[1;33m.\u001b[0m\u001b[0mrequest\u001b[0m\u001b[1;33m.\u001b[0m\u001b[0murlopen\u001b[0m\u001b[1;33m(\u001b[0m\u001b[0murl\u001b[0m\u001b[1;33m)\u001b[0m\u001b[1;33m\u001b[0m\u001b[0m\n\u001b[0m\u001b[0;32m      7\u001b[0m     \u001b[0mtext\u001b[0m \u001b[1;33m=\u001b[0m \u001b[0mresponse\u001b[0m\u001b[1;33m.\u001b[0m\u001b[0mread\u001b[0m\u001b[1;33m(\u001b[0m\u001b[1;33m)\u001b[0m\u001b[1;33m.\u001b[0m\u001b[0mdecode\u001b[0m\u001b[1;33m(\u001b[0m\u001b[1;34m'utf-8'\u001b[0m\u001b[1;33m)\u001b[0m  \u001b[1;31m# \u0447\u0438\u0442\u0430\u0435\u043c \u043e\u0442\u0432\u0435\u0442 \u0432 \u0441\u0442\u0440\u043e\u043a\u0443\u001b[0m\u001b[1;33m\u001b[0m\u001b[0m\n\u001b[0;32m      8\u001b[0m     \u001b[0mdata\u001b[0m \u001b[1;33m=\u001b[0m \u001b[0mjson\u001b[0m\u001b[1;33m.\u001b[0m\u001b[0mloads\u001b[0m\u001b[1;33m(\u001b[0m\u001b[0mtext\u001b[0m\u001b[1;33m)\u001b[0m \u001b[1;31m# \u043f\u0440\u0435\u0432\u0440\u0430\u0449\u0430\u0435\u043c \u0434\u0436\u0435\u0439\u0441\u043e\u043d-\u0441\u0442\u0440\u043e\u043a\u0443 \u0432 \u043e\u0431\u044a\u0435\u043a\u0442\u044b \u043f\u0438\u0442\u043e\u043d\u0430\u001b[0m\u001b[1;33m\u001b[0m\u001b[0m\n",
        "\u001b[1;32mC:\\Python33\\lib\\urllib\\request.py\u001b[0m in \u001b[0;36murlopen\u001b[1;34m(url, data, timeout, cafile, capath, cadefault)\u001b[0m\n\u001b[0;32m    154\u001b[0m     \u001b[1;32melse\u001b[0m\u001b[1;33m:\u001b[0m\u001b[1;33m\u001b[0m\u001b[0m\n\u001b[0;32m    155\u001b[0m         \u001b[0mopener\u001b[0m \u001b[1;33m=\u001b[0m \u001b[0m_opener\u001b[0m\u001b[1;33m\u001b[0m\u001b[0m\n\u001b[1;32m--> 156\u001b[1;33m     \u001b[1;32mreturn\u001b[0m \u001b[0mopener\u001b[0m\u001b[1;33m.\u001b[0m\u001b[0mopen\u001b[0m\u001b[1;33m(\u001b[0m\u001b[0murl\u001b[0m\u001b[1;33m,\u001b[0m \u001b[0mdata\u001b[0m\u001b[1;33m,\u001b[0m \u001b[0mtimeout\u001b[0m\u001b[1;33m)\u001b[0m\u001b[1;33m\u001b[0m\u001b[0m\n\u001b[0m\u001b[0;32m    157\u001b[0m \u001b[1;33m\u001b[0m\u001b[0m\n\u001b[0;32m    158\u001b[0m \u001b[1;32mdef\u001b[0m \u001b[0minstall_opener\u001b[0m\u001b[1;33m(\u001b[0m\u001b[0mopener\u001b[0m\u001b[1;33m)\u001b[0m\u001b[1;33m:\u001b[0m\u001b[1;33m\u001b[0m\u001b[0m\n",
        "\u001b[1;32mC:\\Python33\\lib\\urllib\\request.py\u001b[0m in \u001b[0;36mopen\u001b[1;34m(self, fullurl, data, timeout)\u001b[0m\n\u001b[0;32m    467\u001b[0m             \u001b[0mreq\u001b[0m \u001b[1;33m=\u001b[0m \u001b[0mmeth\u001b[0m\u001b[1;33m(\u001b[0m\u001b[0mreq\u001b[0m\u001b[1;33m)\u001b[0m\u001b[1;33m\u001b[0m\u001b[0m\n\u001b[0;32m    468\u001b[0m \u001b[1;33m\u001b[0m\u001b[0m\n\u001b[1;32m--> 469\u001b[1;33m         \u001b[0mresponse\u001b[0m \u001b[1;33m=\u001b[0m \u001b[0mself\u001b[0m\u001b[1;33m.\u001b[0m\u001b[0m_open\u001b[0m\u001b[1;33m(\u001b[0m\u001b[0mreq\u001b[0m\u001b[1;33m,\u001b[0m \u001b[0mdata\u001b[0m\u001b[1;33m)\u001b[0m\u001b[1;33m\u001b[0m\u001b[0m\n\u001b[0m\u001b[0;32m    470\u001b[0m \u001b[1;33m\u001b[0m\u001b[0m\n\u001b[0;32m    471\u001b[0m         \u001b[1;31m# post-process response\u001b[0m\u001b[1;33m\u001b[0m\u001b[1;33m\u001b[0m\u001b[0m\n",
        "\u001b[1;32mC:\\Python33\\lib\\urllib\\request.py\u001b[0m in \u001b[0;36m_open\u001b[1;34m(self, req, data)\u001b[0m\n\u001b[0;32m    485\u001b[0m         \u001b[0mprotocol\u001b[0m \u001b[1;33m=\u001b[0m \u001b[0mreq\u001b[0m\u001b[1;33m.\u001b[0m\u001b[0mtype\u001b[0m\u001b[1;33m\u001b[0m\u001b[0m\n\u001b[0;32m    486\u001b[0m         result = self._call_chain(self.handle_open, protocol, protocol +\n\u001b[1;32m--> 487\u001b[1;33m                                   '_open', req)\n\u001b[0m\u001b[0;32m    488\u001b[0m         \u001b[1;32mif\u001b[0m \u001b[0mresult\u001b[0m\u001b[1;33m:\u001b[0m\u001b[1;33m\u001b[0m\u001b[0m\n\u001b[0;32m    489\u001b[0m             \u001b[1;32mreturn\u001b[0m \u001b[0mresult\u001b[0m\u001b[1;33m\u001b[0m\u001b[0m\n",
        "\u001b[1;32mC:\\Python33\\lib\\urllib\\request.py\u001b[0m in \u001b[0;36m_call_chain\u001b[1;34m(self, chain, kind, meth_name, *args)\u001b[0m\n\u001b[0;32m    445\u001b[0m         \u001b[1;32mfor\u001b[0m \u001b[0mhandler\u001b[0m \u001b[1;32min\u001b[0m \u001b[0mhandlers\u001b[0m\u001b[1;33m:\u001b[0m\u001b[1;33m\u001b[0m\u001b[0m\n\u001b[0;32m    446\u001b[0m             \u001b[0mfunc\u001b[0m \u001b[1;33m=\u001b[0m \u001b[0mgetattr\u001b[0m\u001b[1;33m(\u001b[0m\u001b[0mhandler\u001b[0m\u001b[1;33m,\u001b[0m \u001b[0mmeth_name\u001b[0m\u001b[1;33m)\u001b[0m\u001b[1;33m\u001b[0m\u001b[0m\n\u001b[1;32m--> 447\u001b[1;33m             \u001b[0mresult\u001b[0m \u001b[1;33m=\u001b[0m \u001b[0mfunc\u001b[0m\u001b[1;33m(\u001b[0m\u001b[1;33m*\u001b[0m\u001b[0margs\u001b[0m\u001b[1;33m)\u001b[0m\u001b[1;33m\u001b[0m\u001b[0m\n\u001b[0m\u001b[0;32m    448\u001b[0m             \u001b[1;32mif\u001b[0m \u001b[0mresult\u001b[0m \u001b[1;32mis\u001b[0m \u001b[1;32mnot\u001b[0m \u001b[1;32mNone\u001b[0m\u001b[1;33m:\u001b[0m\u001b[1;33m\u001b[0m\u001b[0m\n\u001b[0;32m    449\u001b[0m                 \u001b[1;32mreturn\u001b[0m \u001b[0mresult\u001b[0m\u001b[1;33m\u001b[0m\u001b[0m\n",
        "\u001b[1;32mC:\\Python33\\lib\\urllib\\request.py\u001b[0m in \u001b[0;36mhttps_open\u001b[1;34m(self, req)\u001b[0m\n\u001b[0;32m   1287\u001b[0m         \u001b[1;32mdef\u001b[0m \u001b[0mhttps_open\u001b[0m\u001b[1;33m(\u001b[0m\u001b[0mself\u001b[0m\u001b[1;33m,\u001b[0m \u001b[0mreq\u001b[0m\u001b[1;33m)\u001b[0m\u001b[1;33m:\u001b[0m\u001b[1;33m\u001b[0m\u001b[0m\n\u001b[0;32m   1288\u001b[0m             return self.do_open(http.client.HTTPSConnection, req,\n\u001b[1;32m-> 1289\u001b[1;33m                 context=self._context, check_hostname=self._check_hostname)\n\u001b[0m\u001b[0;32m   1290\u001b[0m \u001b[1;33m\u001b[0m\u001b[0m\n\u001b[0;32m   1291\u001b[0m         \u001b[0mhttps_request\u001b[0m \u001b[1;33m=\u001b[0m \u001b[0mAbstractHTTPHandler\u001b[0m\u001b[1;33m.\u001b[0m\u001b[0mdo_request_\u001b[0m\u001b[1;33m\u001b[0m\u001b[0m\n",
        "\u001b[1;32mC:\\Python33\\lib\\urllib\\request.py\u001b[0m in \u001b[0;36mdo_open\u001b[1;34m(self, http_class, req, **http_conn_args)\u001b[0m\n\u001b[0;32m   1249\u001b[0m         \u001b[1;32mexcept\u001b[0m \u001b[0msocket\u001b[0m\u001b[1;33m.\u001b[0m\u001b[0merror\u001b[0m \u001b[1;32mas\u001b[0m \u001b[0merr\u001b[0m\u001b[1;33m:\u001b[0m \u001b[1;31m# timeout error\u001b[0m\u001b[1;33m\u001b[0m\u001b[0m\n\u001b[0;32m   1250\u001b[0m             \u001b[0mh\u001b[0m\u001b[1;33m.\u001b[0m\u001b[0mclose\u001b[0m\u001b[1;33m(\u001b[0m\u001b[1;33m)\u001b[0m\u001b[1;33m\u001b[0m\u001b[0m\n\u001b[1;32m-> 1251\u001b[1;33m             \u001b[1;32mraise\u001b[0m \u001b[0mURLError\u001b[0m\u001b[1;33m(\u001b[0m\u001b[0merr\u001b[0m\u001b[1;33m)\u001b[0m\u001b[1;33m\u001b[0m\u001b[0m\n\u001b[0m\u001b[0;32m   1252\u001b[0m         \u001b[1;32melse\u001b[0m\u001b[1;33m:\u001b[0m\u001b[1;33m\u001b[0m\u001b[0m\n\u001b[0;32m   1253\u001b[0m             \u001b[0mr\u001b[0m \u001b[1;33m=\u001b[0m \u001b[0mh\u001b[0m\u001b[1;33m.\u001b[0m\u001b[0mgetresponse\u001b[0m\u001b[1;33m(\u001b[0m\u001b[1;33m)\u001b[0m\u001b[1;33m\u001b[0m\u001b[0m\n",
        "\u001b[1;31mURLError\u001b[0m: <urlopen error [Errno 11004] getaddrinfo failed>"
       ]
      }
     ],
     "prompt_number": 29
    },
    {
     "cell_type": "code",
     "collapsed": false,
     "input": [],
     "language": "python",
     "metadata": {},
     "outputs": []
    }
   ],
   "metadata": {}
  }
 ]
}